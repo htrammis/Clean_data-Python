{
 "cells": [
  {
   "cell_type": "code",
   "execution_count": 3,
   "metadata": {},
   "outputs": [],
   "source": [
    "import pandas as pd\n",
    "from datetime import datetime, date\n",
    "df = pd.read_excel(r\"D:\\Download\\Dataset\\Data raw.xlsx\")\n",
    "# Remove Duplicate Rows\n",
    "df = df.drop_duplicates()\n",
    "#  Remove Unnescessary columns\n",
    "df = df.drop(columns=\"Not_Useful_Column\")\n",
    "\n",
    "#  Change the date column to the same format \"YYYY-MM-DD\n",
    "def split_date(x):\n",
    "    if isinstance(x, str):  \n",
    "        s1 = x.split(\" \")\n",
    "        if len(s1) == 2:\n",
    "            return s1[0]  \n",
    "        return x  \n",
    "    return x \n",
    "\n",
    "df[\"Date\"] = df[\"Date\"].apply(split_date)\n",
    "df[\"Date\"] = pd.to_datetime(df[\"Date\"], errors='coerce').dt.date\n",
    "# Remove /,...,_ from Column Last_name\n",
    "df[\"Last_Name\"] = df[\"Last_Name\"].str.strip(\"123._/\")\n",
    "df[\"Full_Name\"] = df[\"First_Name\"] + \" \" + df[\"Last_Name\"]\n",
    "\n",
    "# Change the phone number column to the format “84……”\n",
    "df[\"Phone_Number\"]=df[\"Phone_Number\"].astype(str)\n",
    "df[\"Phone_Number\"] = df[\"Phone_Number\"].apply(lambda x: x if x.startswith('84') else \"84\"+x)\n",
    "\n",
    "# Divide Address into \"Street_Address\", \"State\", \"Zip_Code\"\n",
    "df[[\"Street_Address\", \"State\", \"Zip_Code\"]] = df[\"Address\"].str.split(',',n=2, expand=True)\n",
    "# Replace values in Do_Not_Contact column\n",
    "df[\"Do_Not_Contact\"] = df[\"Do_Not_Contact\"].str.replace('Yes','Y')\n",
    "df[\"Do_Not_Contact\"] = df[\"Do_Not_Contact\"].str.replace('No','N')\n",
    "# Remove Nan\n",
    "df=df.fillna('')\n",
    "# Remove rows contains \"Y\"\n",
    "df = df[df[\"Do_Not_Contact\"] != 'Y']\n",
    "df.drop(df[df[\"Do_Not_Contact\"] == 'Y'].index, inplace=True)\n",
    "df = df.drop(df[df[\"Do_Not_Contact\"] == 'Y'].index)\n",
    "# Reset index\n",
    "df = df.reset_index(drop=True)\n"
   ]
  },
  {
   "cell_type": "code",
   "execution_count": null,
   "metadata": {},
   "outputs": [],
   "source": []
  },
  {
   "cell_type": "code",
   "execution_count": null,
   "metadata": {},
   "outputs": [],
   "source": []
  }
 ],
 "metadata": {
  "kernelspec": {
   "display_name": "Python 3",
   "language": "python",
   "name": "python3"
  },
  "language_info": {
   "codemirror_mode": {
    "name": "ipython",
    "version": 3
   },
   "file_extension": ".py",
   "mimetype": "text/x-python",
   "name": "python",
   "nbconvert_exporter": "python",
   "pygments_lexer": "ipython3",
   "version": "3.11.3"
  }
 },
 "nbformat": 4,
 "nbformat_minor": 2
}
